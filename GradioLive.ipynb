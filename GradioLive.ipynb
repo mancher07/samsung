{
  "nbformat": 4,
  "nbformat_minor": 0,
  "metadata": {
    "colab": {
      "provenance": [],
      "gpuType": "T4",
      "authorship_tag": "ABX9TyPwmK31CG8z3Da0RV1o458W",
      "include_colab_link": true
    },
    "kernelspec": {
      "name": "python3",
      "display_name": "Python 3"
    },
    "language_info": {
      "name": "python"
    },
    "accelerator": "GPU",
    "widgets": {
      "application/vnd.jupyter.widget-state+json": {
        "9b93222dee86498cb65a80685da7b946": {
          "model_module": "@jupyter-widgets/controls",
          "model_name": "HBoxModel",
          "model_module_version": "1.5.0",
          "state": {
            "_dom_classes": [],
            "_model_module": "@jupyter-widgets/controls",
            "_model_module_version": "1.5.0",
            "_model_name": "HBoxModel",
            "_view_count": null,
            "_view_module": "@jupyter-widgets/controls",
            "_view_module_version": "1.5.0",
            "_view_name": "HBoxView",
            "box_style": "",
            "children": [
              "IPY_MODEL_db717e50a4fc4de388eb8c6f3a753f94",
              "IPY_MODEL_9080733437fb482196b0f3651db43515",
              "IPY_MODEL_d26486cc6d9b4a418f00d204ccfd16cb"
            ],
            "layout": "IPY_MODEL_833b85d839d548f1aaf59cdec60a4d44"
          }
        },
        "db717e50a4fc4de388eb8c6f3a753f94": {
          "model_module": "@jupyter-widgets/controls",
          "model_name": "HTMLModel",
          "model_module_version": "1.5.0",
          "state": {
            "_dom_classes": [],
            "_model_module": "@jupyter-widgets/controls",
            "_model_module_version": "1.5.0",
            "_model_name": "HTMLModel",
            "_view_count": null,
            "_view_module": "@jupyter-widgets/controls",
            "_view_module_version": "1.5.0",
            "_view_name": "HTMLView",
            "description": "",
            "description_tooltip": null,
            "layout": "IPY_MODEL_0a9bc781f3d3446baba7d1e5c4fff648",
            "placeholder": "​",
            "style": "IPY_MODEL_b319267725dc41a3b68e6ecdc260a50a",
            "value": "Loading checkpoint shards: 100%"
          }
        },
        "9080733437fb482196b0f3651db43515": {
          "model_module": "@jupyter-widgets/controls",
          "model_name": "FloatProgressModel",
          "model_module_version": "1.5.0",
          "state": {
            "_dom_classes": [],
            "_model_module": "@jupyter-widgets/controls",
            "_model_module_version": "1.5.0",
            "_model_name": "FloatProgressModel",
            "_view_count": null,
            "_view_module": "@jupyter-widgets/controls",
            "_view_module_version": "1.5.0",
            "_view_name": "ProgressView",
            "bar_style": "success",
            "description": "",
            "description_tooltip": null,
            "layout": "IPY_MODEL_a4f13d24a435457c981884d74b3e83d7",
            "max": 2,
            "min": 0,
            "orientation": "horizontal",
            "style": "IPY_MODEL_338f1db87d3348bda47e8b1054b4e455",
            "value": 2
          }
        },
        "d26486cc6d9b4a418f00d204ccfd16cb": {
          "model_module": "@jupyter-widgets/controls",
          "model_name": "HTMLModel",
          "model_module_version": "1.5.0",
          "state": {
            "_dom_classes": [],
            "_model_module": "@jupyter-widgets/controls",
            "_model_module_version": "1.5.0",
            "_model_name": "HTMLModel",
            "_view_count": null,
            "_view_module": "@jupyter-widgets/controls",
            "_view_module_version": "1.5.0",
            "_view_name": "HTMLView",
            "description": "",
            "description_tooltip": null,
            "layout": "IPY_MODEL_d521123496bb4d67bfd487a9b4596013",
            "placeholder": "​",
            "style": "IPY_MODEL_1de366c95bf94589b87bf4976960c2c6",
            "value": " 2/2 [00:23&lt;00:00, 10.17s/it]"
          }
        },
        "833b85d839d548f1aaf59cdec60a4d44": {
          "model_module": "@jupyter-widgets/base",
          "model_name": "LayoutModel",
          "model_module_version": "1.2.0",
          "state": {
            "_model_module": "@jupyter-widgets/base",
            "_model_module_version": "1.2.0",
            "_model_name": "LayoutModel",
            "_view_count": null,
            "_view_module": "@jupyter-widgets/base",
            "_view_module_version": "1.2.0",
            "_view_name": "LayoutView",
            "align_content": null,
            "align_items": null,
            "align_self": null,
            "border": null,
            "bottom": null,
            "display": null,
            "flex": null,
            "flex_flow": null,
            "grid_area": null,
            "grid_auto_columns": null,
            "grid_auto_flow": null,
            "grid_auto_rows": null,
            "grid_column": null,
            "grid_gap": null,
            "grid_row": null,
            "grid_template_areas": null,
            "grid_template_columns": null,
            "grid_template_rows": null,
            "height": null,
            "justify_content": null,
            "justify_items": null,
            "left": null,
            "margin": null,
            "max_height": null,
            "max_width": null,
            "min_height": null,
            "min_width": null,
            "object_fit": null,
            "object_position": null,
            "order": null,
            "overflow": null,
            "overflow_x": null,
            "overflow_y": null,
            "padding": null,
            "right": null,
            "top": null,
            "visibility": null,
            "width": null
          }
        },
        "0a9bc781f3d3446baba7d1e5c4fff648": {
          "model_module": "@jupyter-widgets/base",
          "model_name": "LayoutModel",
          "model_module_version": "1.2.0",
          "state": {
            "_model_module": "@jupyter-widgets/base",
            "_model_module_version": "1.2.0",
            "_model_name": "LayoutModel",
            "_view_count": null,
            "_view_module": "@jupyter-widgets/base",
            "_view_module_version": "1.2.0",
            "_view_name": "LayoutView",
            "align_content": null,
            "align_items": null,
            "align_self": null,
            "border": null,
            "bottom": null,
            "display": null,
            "flex": null,
            "flex_flow": null,
            "grid_area": null,
            "grid_auto_columns": null,
            "grid_auto_flow": null,
            "grid_auto_rows": null,
            "grid_column": null,
            "grid_gap": null,
            "grid_row": null,
            "grid_template_areas": null,
            "grid_template_columns": null,
            "grid_template_rows": null,
            "height": null,
            "justify_content": null,
            "justify_items": null,
            "left": null,
            "margin": null,
            "max_height": null,
            "max_width": null,
            "min_height": null,
            "min_width": null,
            "object_fit": null,
            "object_position": null,
            "order": null,
            "overflow": null,
            "overflow_x": null,
            "overflow_y": null,
            "padding": null,
            "right": null,
            "top": null,
            "visibility": null,
            "width": null
          }
        },
        "b319267725dc41a3b68e6ecdc260a50a": {
          "model_module": "@jupyter-widgets/controls",
          "model_name": "DescriptionStyleModel",
          "model_module_version": "1.5.0",
          "state": {
            "_model_module": "@jupyter-widgets/controls",
            "_model_module_version": "1.5.0",
            "_model_name": "DescriptionStyleModel",
            "_view_count": null,
            "_view_module": "@jupyter-widgets/base",
            "_view_module_version": "1.2.0",
            "_view_name": "StyleView",
            "description_width": ""
          }
        },
        "a4f13d24a435457c981884d74b3e83d7": {
          "model_module": "@jupyter-widgets/base",
          "model_name": "LayoutModel",
          "model_module_version": "1.2.0",
          "state": {
            "_model_module": "@jupyter-widgets/base",
            "_model_module_version": "1.2.0",
            "_model_name": "LayoutModel",
            "_view_count": null,
            "_view_module": "@jupyter-widgets/base",
            "_view_module_version": "1.2.0",
            "_view_name": "LayoutView",
            "align_content": null,
            "align_items": null,
            "align_self": null,
            "border": null,
            "bottom": null,
            "display": null,
            "flex": null,
            "flex_flow": null,
            "grid_area": null,
            "grid_auto_columns": null,
            "grid_auto_flow": null,
            "grid_auto_rows": null,
            "grid_column": null,
            "grid_gap": null,
            "grid_row": null,
            "grid_template_areas": null,
            "grid_template_columns": null,
            "grid_template_rows": null,
            "height": null,
            "justify_content": null,
            "justify_items": null,
            "left": null,
            "margin": null,
            "max_height": null,
            "max_width": null,
            "min_height": null,
            "min_width": null,
            "object_fit": null,
            "object_position": null,
            "order": null,
            "overflow": null,
            "overflow_x": null,
            "overflow_y": null,
            "padding": null,
            "right": null,
            "top": null,
            "visibility": null,
            "width": null
          }
        },
        "338f1db87d3348bda47e8b1054b4e455": {
          "model_module": "@jupyter-widgets/controls",
          "model_name": "ProgressStyleModel",
          "model_module_version": "1.5.0",
          "state": {
            "_model_module": "@jupyter-widgets/controls",
            "_model_module_version": "1.5.0",
            "_model_name": "ProgressStyleModel",
            "_view_count": null,
            "_view_module": "@jupyter-widgets/base",
            "_view_module_version": "1.2.0",
            "_view_name": "StyleView",
            "bar_color": null,
            "description_width": ""
          }
        },
        "d521123496bb4d67bfd487a9b4596013": {
          "model_module": "@jupyter-widgets/base",
          "model_name": "LayoutModel",
          "model_module_version": "1.2.0",
          "state": {
            "_model_module": "@jupyter-widgets/base",
            "_model_module_version": "1.2.0",
            "_model_name": "LayoutModel",
            "_view_count": null,
            "_view_module": "@jupyter-widgets/base",
            "_view_module_version": "1.2.0",
            "_view_name": "LayoutView",
            "align_content": null,
            "align_items": null,
            "align_self": null,
            "border": null,
            "bottom": null,
            "display": null,
            "flex": null,
            "flex_flow": null,
            "grid_area": null,
            "grid_auto_columns": null,
            "grid_auto_flow": null,
            "grid_auto_rows": null,
            "grid_column": null,
            "grid_gap": null,
            "grid_row": null,
            "grid_template_areas": null,
            "grid_template_columns": null,
            "grid_template_rows": null,
            "height": null,
            "justify_content": null,
            "justify_items": null,
            "left": null,
            "margin": null,
            "max_height": null,
            "max_width": null,
            "min_height": null,
            "min_width": null,
            "object_fit": null,
            "object_position": null,
            "order": null,
            "overflow": null,
            "overflow_x": null,
            "overflow_y": null,
            "padding": null,
            "right": null,
            "top": null,
            "visibility": null,
            "width": null
          }
        },
        "1de366c95bf94589b87bf4976960c2c6": {
          "model_module": "@jupyter-widgets/controls",
          "model_name": "DescriptionStyleModel",
          "model_module_version": "1.5.0",
          "state": {
            "_model_module": "@jupyter-widgets/controls",
            "_model_module_version": "1.5.0",
            "_model_name": "DescriptionStyleModel",
            "_view_count": null,
            "_view_module": "@jupyter-widgets/base",
            "_view_module_version": "1.2.0",
            "_view_name": "StyleView",
            "description_width": ""
          }
        }
      }
    }
  },
  "cells": [
    {
      "cell_type": "markdown",
      "metadata": {
        "id": "view-in-github",
        "colab_type": "text"
      },
      "source": [
        "<a href=\"https://colab.research.google.com/github/mancher07/samsung/blob/main/GradioLive.ipynb\" target=\"_parent\"><img src=\"https://colab.research.google.com/assets/colab-badge.svg\" alt=\"Open In Colab\"/></a>"
      ]
    },
    {
      "cell_type": "code",
      "execution_count": null,
      "metadata": {
        "id": "4pOirYGLqOLr"
      },
      "outputs": [],
      "source": [
        "!pip install transformers==4.38.2 tiktoken torch numpy gradio"
      ]
    },
    {
      "cell_type": "code",
      "source": [
        "import argparse\n",
        "import os\n",
        "import gradio as gr\n",
        "import json\n",
        "from threading import Thread\n",
        "import torch\n",
        "from transformers import AutoModelForCausalLM, AutoTokenizer, TextIteratorStreamer"
      ],
      "metadata": {
        "id": "v89uKmRhqvDC"
      },
      "execution_count": null,
      "outputs": []
    },
    {
      "cell_type": "code",
      "source": [
        "\n",
        "MAX_LENGTH = 4096\n",
        "DEFAULT_MAX_NEW_TOKENS = 1024\n",
        "\n",
        "tokenizer = AutoTokenizer.from_pretrained(\"stabilityai/stable-code-instruct-3b\")\n",
        "model = AutoModelForCausalLM.from_pretrained(\"stabilityai/stable-code-instruct-3b\", torch_dtype=torch.bfloat16)\n",
        "device = torch.device('cuda' if torch.cuda.is_available() else 'cpu')\n",
        "model = model.to(device)\n",
        "\n",
        "def predict(message, history, system_prompt, temperature, max_tokens):\n",
        "    instruction = system_prompt\n",
        "    for human, assistant in history:\n",
        "        instruction += f'user\\n{human}\\n\\nassistant\\n{assistant}\\n'\n",
        "    instruction += f'\\nuser\\n{message}\\n\\nassistant\\n'\n",
        "\n",
        "    problem = [instruction]\n",
        "    stop_tokens = [\"\", \"\"]\n",
        "    streamer = TextIteratorStreamer(tokenizer, timeout=100.0, skip_prompt=True, skip_special_tokens=True)\n",
        "    enc = tokenizer(problem, return_tensors=\"pt\", padding=True, truncation=True)\n",
        "    input_ids = enc.input_ids\n",
        "    attention_mask = enc.attention_mask\n",
        "\n",
        "    if input_ids.shape[1] > MAX_LENGTH:\n",
        "        input_ids = input_ids[:, -MAX_LENGTH:]\n",
        "\n",
        "    input_ids = input_ids.to(device)\n",
        "    attention_mask = attention_mask.to(device)\n",
        "    generate_kwargs = {\n",
        "        \"input_ids\": input_ids,\n",
        "        \"attention_mask\": attention_mask,\n",
        "        \"streamer\": streamer,\n",
        "        \"do_sample\": True,\n",
        "        \"top_p\": 0.95,\n",
        "        \"temperature\": temperature,\n",
        "        \"max_new_tokens\": max_tokens,\n",
        "    }\n",
        "    t = Thread(target=model.generate, kwargs=generate_kwargs)\n",
        "    t.start()\n",
        "    outputs = []\n",
        "    for text in streamer:\n",
        "        outputs.append(text)\n",
        "        if text in stop_tokens:\n",
        "            break\n",
        "        yield \"\".join(outputs)"
      ],
      "metadata": {
        "id": "kPJh4DnJq2qy"
      },
      "execution_count": null,
      "outputs": []
    },
    {
      "cell_type": "code",
      "source": [
        "import gradio as gr\n",
        "import torch\n",
        "from transformers import AutoModelForCausalLM, AutoTokenizer, TextIteratorStreamer\n",
        "from threading import Thread\n",
        "\n",
        "# Variables globales y configuración del modelo\n",
        "MAX_LENGTH = 4096\n",
        "DEFAULT_MAX_NEW_TOKENS = 1024\n",
        "\n",
        "# Cargar el modelo y el tokenizador\n",
        "tokenizer = AutoTokenizer.from_pretrained(\"stabilityai/stable-code-instruct-3b\")\n",
        "model = AutoModelForCausalLM.from_pretrained(\"stabilityai/stable-code-instruct-3b\", torch_dtype=torch.bfloat16)\n",
        "device = torch.device('cuda' if torch.cuda.is_available() else 'cpu')\n",
        "model = model.to(device)\n",
        "\n",
        "def predict(message, history, system_prompt, temperature, max_tokens):\n",
        "    instruction = system_prompt\n",
        "    for human, assistant in history:\n",
        "        instruction += f'user\\n{human}\\n\\nassistant\\n{assistant}\\n'\n",
        "    instruction += f'\\nuser\\n{message}\\n\\nassistant\\n'\n",
        "\n",
        "    problem = [instruction]\n",
        "    streamer = TextIteratorStreamer(tokenizer, timeout=100.0, skip_prompt=True, skip_special_tokens=True)\n",
        "    enc = tokenizer(problem, return_tensors=\"pt\", padding=True, truncation=True)\n",
        "    input_ids = enc.input_ids\n",
        "    attention_mask = enc.attention_mask\n",
        "\n",
        "    if input_ids.shape[1] > MAX_LENGTH:\n",
        "        input_ids = input_ids[:, -MAX_LENGTH:]\n",
        "\n",
        "    input_ids = input_ids.to(device)\n",
        "    attention_mask = attention_mask.to(device)\n",
        "    generate_kwargs = {\n",
        "        \"input_ids\": input_ids,\n",
        "        \"attention_mask\": attention_mask,\n",
        "        \"streamer\": streamer,\n",
        "        \"do_sample\": True,\n",
        "        \"top_p\": 0.95,\n",
        "        \"temperature\": temperature,\n",
        "        \"max_new_tokens\": max_tokens,\n",
        "    }\n",
        "\n",
        "    t = Thread(target=model.generate, kwargs=generate_kwargs)\n",
        "    t.start()\n",
        "    outputs = []\n",
        "    for text in streamer:\n",
        "        outputs.append(text)\n",
        "        yield \"\".join(outputs)\n",
        "    yield \"\".join(outputs)\n",
        "\n",
        "system_prompt = \"A chat between a curious user and an artificial intelligence assistant. The assistant gives helpful, detailed, and polite answers to the user's questions.\"\n",
        "\n",
        "interface = gr.ChatInterface(\n",
        "    fn=predict,\n",
        "    title=\"Stable Code Instruct Chat - Demo\",\n",
        "    description=\"Chat Model Stable Code 3B\",\n",
        "    theme=\"soft\",\n",
        "    chatbot=gr.Chatbot(label=\"Chat History\"),\n",
        "    textbox=gr.Textbox(placeholder=\"input\", container=False, scale=7),\n",
        "    retry_btn=None,\n",
        "    undo_btn=\"Delete Previous\",\n",
        "    clear_btn=\"Clear\",\n",
        "    additional_inputs=[\n",
        "        gr.Textbox(system_prompt, label=\"System Prompt\"),\n",
        "        gr.Slider(0, 1, 0.9, label=\"Temperature\"),\n",
        "        gr.Slider(100, 2048, 1024, label=\"Max Tokens\"),\n",
        "    ],\n",
        "    additional_inputs_accordion=\"Parameters\",\n",
        ")\n",
        "\n",
        "interface.launch(debug=True, share=True)\n",
        "\n",
        "time.sleep(5)"
      ],
      "metadata": {
        "colab": {
          "base_uri": "https://localhost:8080/",
          "height": 839,
          "referenced_widgets": [
            "9b93222dee86498cb65a80685da7b946",
            "db717e50a4fc4de388eb8c6f3a753f94",
            "9080733437fb482196b0f3651db43515",
            "d26486cc6d9b4a418f00d204ccfd16cb",
            "833b85d839d548f1aaf59cdec60a4d44",
            "0a9bc781f3d3446baba7d1e5c4fff648",
            "b319267725dc41a3b68e6ecdc260a50a",
            "a4f13d24a435457c981884d74b3e83d7",
            "338f1db87d3348bda47e8b1054b4e455",
            "d521123496bb4d67bfd487a9b4596013",
            "1de366c95bf94589b87bf4976960c2c6"
          ]
        },
        "id": "lm5ir4lzrcH5",
        "outputId": "bf8fbbc1-ef25-4140-fdde-107ecbdccfd7"
      },
      "execution_count": null,
      "outputs": [
        {
          "metadata": {
            "tags": null
          },
          "name": "stderr",
          "output_type": "stream",
          "text": [
            "Special tokens have been added in the vocabulary, make sure the associated word embeddings are fine-tuned or trained.\n"
          ]
        },
        {
          "data": {
            "application/vnd.jupyter.widget-view+json": {
              "model_id": "9b93222dee86498cb65a80685da7b946",
              "version_major": 2,
              "version_minor": 0
            },
            "text/plain": [
              "Loading checkpoint shards:   0%|          | 0/2 [00:00<?, ?it/s]"
            ]
          },
          "metadata": {},
          "output_type": "display_data"
        },
        {
          "metadata": {
            "tags": null
          },
          "name": "stdout",
          "output_type": "stream",
          "text": [
            "Colab notebook detected. This cell will run indefinitely so that you can see errors and logs. To turn off, set debug=False in launch().\n",
            "Running on public URL: https://0557d5b2ef6fdaa144.gradio.live\n",
            "\n",
            "This share link expires in 72 hours. For free permanent hosting and GPU upgrades, run `gradio deploy` from Terminal to deploy to Spaces (https://huggingface.co/spaces)\n"
          ]
        },
        {
          "data": {
            "text/html": [
              "<div><iframe src=\"https://0557d5b2ef6fdaa144.gradio.live\" width=\"100%\" height=\"500\" allow=\"autoplay; camera; microphone; clipboard-read; clipboard-write;\" frameborder=\"0\" allowfullscreen></iframe></div>"
            ],
            "text/plain": [
              "<IPython.core.display.HTML object>"
            ]
          },
          "metadata": {},
          "output_type": "display_data"
        },
        {
          "output_type": "stream",
          "name": "stderr",
          "text": [
            "Setting `pad_token_id` to `eos_token_id`:0 for open-end generation.\n",
            "Setting `pad_token_id` to `eos_token_id`:0 for open-end generation.\n",
            "Setting `pad_token_id` to `eos_token_id`:0 for open-end generation.\n",
            "Setting `pad_token_id` to `eos_token_id`:0 for open-end generation.\n",
            "Setting `pad_token_id` to `eos_token_id`:0 for open-end generation.\n",
            "Setting `pad_token_id` to `eos_token_id`:0 for open-end generation.\n"
          ]
        },
        {
          "output_type": "stream",
          "name": "stdout",
          "text": [
            "Keyboard interruption in main thread... closing server.\n",
            "Killing tunnel 127.0.0.1:7861 <> https://0557d5b2ef6fdaa144.gradio.live\n"
          ]
        }
      ]
    }
  ]
}