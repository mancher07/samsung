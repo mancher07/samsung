{
  "nbformat": 4,
  "nbformat_minor": 0,
  "metadata": {
    "colab": {
      "provenance": [],
      "include_colab_link": true
    },
    "kernelspec": {
      "name": "python3",
      "display_name": "Python 3"
    },
    "language_info": {
      "name": "python"
    },
    "widgets": {
      "application/vnd.jupyter.widget-state+json": {
        "e7a209e8a78a4e0eb3b9446aa4d3e43f": {
          "model_module": "@jupyter-widgets/controls",
          "model_name": "HBoxModel",
          "model_module_version": "1.5.0",
          "state": {
            "_dom_classes": [],
            "_model_module": "@jupyter-widgets/controls",
            "_model_module_version": "1.5.0",
            "_model_name": "HBoxModel",
            "_view_count": null,
            "_view_module": "@jupyter-widgets/controls",
            "_view_module_version": "1.5.0",
            "_view_name": "HBoxView",
            "box_style": "",
            "children": [
              "IPY_MODEL_c4feff47c7774f3798d723be069f563a",
              "IPY_MODEL_908e35c418ea48bfb31568a99700428f",
              "IPY_MODEL_fd1a6986bb7546edb2656cac89d204e0"
            ],
            "layout": "IPY_MODEL_9a4ba9e203ed498b954ea42ae7ebe128"
          }
        },
        "c4feff47c7774f3798d723be069f563a": {
          "model_module": "@jupyter-widgets/controls",
          "model_name": "HTMLModel",
          "model_module_version": "1.5.0",
          "state": {
            "_dom_classes": [],
            "_model_module": "@jupyter-widgets/controls",
            "_model_module_version": "1.5.0",
            "_model_name": "HTMLModel",
            "_view_count": null,
            "_view_module": "@jupyter-widgets/controls",
            "_view_module_version": "1.5.0",
            "_view_name": "HTMLView",
            "description": "",
            "description_tooltip": null,
            "layout": "IPY_MODEL_8fe7e62bf71547cc838a586a1e7cb736",
            "placeholder": "​",
            "style": "IPY_MODEL_5426b53a81884af2b5bf907fb54ece25",
            "value": "Loading checkpoint shards: 100%"
          }
        },
        "908e35c418ea48bfb31568a99700428f": {
          "model_module": "@jupyter-widgets/controls",
          "model_name": "FloatProgressModel",
          "model_module_version": "1.5.0",
          "state": {
            "_dom_classes": [],
            "_model_module": "@jupyter-widgets/controls",
            "_model_module_version": "1.5.0",
            "_model_name": "FloatProgressModel",
            "_view_count": null,
            "_view_module": "@jupyter-widgets/controls",
            "_view_module_version": "1.5.0",
            "_view_name": "ProgressView",
            "bar_style": "success",
            "description": "",
            "description_tooltip": null,
            "layout": "IPY_MODEL_e8e2cef7a15c4c87958dc65bb066b959",
            "max": 2,
            "min": 0,
            "orientation": "horizontal",
            "style": "IPY_MODEL_e3a9a143a1744af4865eff3857c2e348",
            "value": 2
          }
        },
        "fd1a6986bb7546edb2656cac89d204e0": {
          "model_module": "@jupyter-widgets/controls",
          "model_name": "HTMLModel",
          "model_module_version": "1.5.0",
          "state": {
            "_dom_classes": [],
            "_model_module": "@jupyter-widgets/controls",
            "_model_module_version": "1.5.0",
            "_model_name": "HTMLModel",
            "_view_count": null,
            "_view_module": "@jupyter-widgets/controls",
            "_view_module_version": "1.5.0",
            "_view_name": "HTMLView",
            "description": "",
            "description_tooltip": null,
            "layout": "IPY_MODEL_4cc72816a9af4c5280e73900fe43e322",
            "placeholder": "​",
            "style": "IPY_MODEL_a907fd14e8344afebd4eaa282a7a2259",
            "value": " 2/2 [00:27&lt;00:00, 11.81s/it]"
          }
        },
        "9a4ba9e203ed498b954ea42ae7ebe128": {
          "model_module": "@jupyter-widgets/base",
          "model_name": "LayoutModel",
          "model_module_version": "1.2.0",
          "state": {
            "_model_module": "@jupyter-widgets/base",
            "_model_module_version": "1.2.0",
            "_model_name": "LayoutModel",
            "_view_count": null,
            "_view_module": "@jupyter-widgets/base",
            "_view_module_version": "1.2.0",
            "_view_name": "LayoutView",
            "align_content": null,
            "align_items": null,
            "align_self": null,
            "border": null,
            "bottom": null,
            "display": null,
            "flex": null,
            "flex_flow": null,
            "grid_area": null,
            "grid_auto_columns": null,
            "grid_auto_flow": null,
            "grid_auto_rows": null,
            "grid_column": null,
            "grid_gap": null,
            "grid_row": null,
            "grid_template_areas": null,
            "grid_template_columns": null,
            "grid_template_rows": null,
            "height": null,
            "justify_content": null,
            "justify_items": null,
            "left": null,
            "margin": null,
            "max_height": null,
            "max_width": null,
            "min_height": null,
            "min_width": null,
            "object_fit": null,
            "object_position": null,
            "order": null,
            "overflow": null,
            "overflow_x": null,
            "overflow_y": null,
            "padding": null,
            "right": null,
            "top": null,
            "visibility": null,
            "width": null
          }
        },
        "8fe7e62bf71547cc838a586a1e7cb736": {
          "model_module": "@jupyter-widgets/base",
          "model_name": "LayoutModel",
          "model_module_version": "1.2.0",
          "state": {
            "_model_module": "@jupyter-widgets/base",
            "_model_module_version": "1.2.0",
            "_model_name": "LayoutModel",
            "_view_count": null,
            "_view_module": "@jupyter-widgets/base",
            "_view_module_version": "1.2.0",
            "_view_name": "LayoutView",
            "align_content": null,
            "align_items": null,
            "align_self": null,
            "border": null,
            "bottom": null,
            "display": null,
            "flex": null,
            "flex_flow": null,
            "grid_area": null,
            "grid_auto_columns": null,
            "grid_auto_flow": null,
            "grid_auto_rows": null,
            "grid_column": null,
            "grid_gap": null,
            "grid_row": null,
            "grid_template_areas": null,
            "grid_template_columns": null,
            "grid_template_rows": null,
            "height": null,
            "justify_content": null,
            "justify_items": null,
            "left": null,
            "margin": null,
            "max_height": null,
            "max_width": null,
            "min_height": null,
            "min_width": null,
            "object_fit": null,
            "object_position": null,
            "order": null,
            "overflow": null,
            "overflow_x": null,
            "overflow_y": null,
            "padding": null,
            "right": null,
            "top": null,
            "visibility": null,
            "width": null
          }
        },
        "5426b53a81884af2b5bf907fb54ece25": {
          "model_module": "@jupyter-widgets/controls",
          "model_name": "DescriptionStyleModel",
          "model_module_version": "1.5.0",
          "state": {
            "_model_module": "@jupyter-widgets/controls",
            "_model_module_version": "1.5.0",
            "_model_name": "DescriptionStyleModel",
            "_view_count": null,
            "_view_module": "@jupyter-widgets/base",
            "_view_module_version": "1.2.0",
            "_view_name": "StyleView",
            "description_width": ""
          }
        },
        "e8e2cef7a15c4c87958dc65bb066b959": {
          "model_module": "@jupyter-widgets/base",
          "model_name": "LayoutModel",
          "model_module_version": "1.2.0",
          "state": {
            "_model_module": "@jupyter-widgets/base",
            "_model_module_version": "1.2.0",
            "_model_name": "LayoutModel",
            "_view_count": null,
            "_view_module": "@jupyter-widgets/base",
            "_view_module_version": "1.2.0",
            "_view_name": "LayoutView",
            "align_content": null,
            "align_items": null,
            "align_self": null,
            "border": null,
            "bottom": null,
            "display": null,
            "flex": null,
            "flex_flow": null,
            "grid_area": null,
            "grid_auto_columns": null,
            "grid_auto_flow": null,
            "grid_auto_rows": null,
            "grid_column": null,
            "grid_gap": null,
            "grid_row": null,
            "grid_template_areas": null,
            "grid_template_columns": null,
            "grid_template_rows": null,
            "height": null,
            "justify_content": null,
            "justify_items": null,
            "left": null,
            "margin": null,
            "max_height": null,
            "max_width": null,
            "min_height": null,
            "min_width": null,
            "object_fit": null,
            "object_position": null,
            "order": null,
            "overflow": null,
            "overflow_x": null,
            "overflow_y": null,
            "padding": null,
            "right": null,
            "top": null,
            "visibility": null,
            "width": null
          }
        },
        "e3a9a143a1744af4865eff3857c2e348": {
          "model_module": "@jupyter-widgets/controls",
          "model_name": "ProgressStyleModel",
          "model_module_version": "1.5.0",
          "state": {
            "_model_module": "@jupyter-widgets/controls",
            "_model_module_version": "1.5.0",
            "_model_name": "ProgressStyleModel",
            "_view_count": null,
            "_view_module": "@jupyter-widgets/base",
            "_view_module_version": "1.2.0",
            "_view_name": "StyleView",
            "bar_color": null,
            "description_width": ""
          }
        },
        "4cc72816a9af4c5280e73900fe43e322": {
          "model_module": "@jupyter-widgets/base",
          "model_name": "LayoutModel",
          "model_module_version": "1.2.0",
          "state": {
            "_model_module": "@jupyter-widgets/base",
            "_model_module_version": "1.2.0",
            "_model_name": "LayoutModel",
            "_view_count": null,
            "_view_module": "@jupyter-widgets/base",
            "_view_module_version": "1.2.0",
            "_view_name": "LayoutView",
            "align_content": null,
            "align_items": null,
            "align_self": null,
            "border": null,
            "bottom": null,
            "display": null,
            "flex": null,
            "flex_flow": null,
            "grid_area": null,
            "grid_auto_columns": null,
            "grid_auto_flow": null,
            "grid_auto_rows": null,
            "grid_column": null,
            "grid_gap": null,
            "grid_row": null,
            "grid_template_areas": null,
            "grid_template_columns": null,
            "grid_template_rows": null,
            "height": null,
            "justify_content": null,
            "justify_items": null,
            "left": null,
            "margin": null,
            "max_height": null,
            "max_width": null,
            "min_height": null,
            "min_width": null,
            "object_fit": null,
            "object_position": null,
            "order": null,
            "overflow": null,
            "overflow_x": null,
            "overflow_y": null,
            "padding": null,
            "right": null,
            "top": null,
            "visibility": null,
            "width": null
          }
        },
        "a907fd14e8344afebd4eaa282a7a2259": {
          "model_module": "@jupyter-widgets/controls",
          "model_name": "DescriptionStyleModel",
          "model_module_version": "1.5.0",
          "state": {
            "_model_module": "@jupyter-widgets/controls",
            "_model_module_version": "1.5.0",
            "_model_name": "DescriptionStyleModel",
            "_view_count": null,
            "_view_module": "@jupyter-widgets/base",
            "_view_module_version": "1.2.0",
            "_view_name": "StyleView",
            "description_width": ""
          }
        }
      }
    }
  },
  "cells": [
    {
      "cell_type": "markdown",
      "metadata": {
        "id": "view-in-github",
        "colab_type": "text"
      },
      "source": [
        "<a href=\"https://colab.research.google.com/github/mancher07/samsung/blob/main/GradioLive.ipynb\" target=\"_parent\"><img src=\"https://colab.research.google.com/assets/colab-badge.svg\" alt=\"Open In Colab\"/></a>"
      ]
    },
    {
      "cell_type": "code",
      "execution_count": null,
      "metadata": {
        "id": "4pOirYGLqOLr"
      },
      "outputs": [],
      "source": [
        "# @title <b>Dependencies Local🟡🚀</b>   {display-mode: \"form\"}\n",
        "\n",
        "%%capture\n",
        "!pip install transformers==4.38.2 tiktoken torch numpy gradio\n",
        "\n",
        "import argparse\n",
        "import os\n",
        "import gradio as gr\n",
        "import json\n",
        "import torch\n",
        "from transformers import AutoModelForCausalLM, AutoTokenizer, TextIteratorStreamer\n",
        "from threading import Thread\n",
        "\n",
        "# Cargar el modelo y el tokenizador\n",
        "tokenizer = AutoTokenizer.from_pretrained(\"stabilityai/stable-code-instruct-3b\")\n",
        "model = AutoModelForCausalLM.from_pretrained(\"stabilityai/stable-code-instruct-3b\", torch_dtype=torch.bfloat16)\n",
        "device = torch.device('cuda' if torch.cuda.is_available() else 'cpu')\n",
        "model = model.to(device)"
      ]
    },
    {
      "cell_type": "code",
      "source": [
        "# @title <b>Bot Java Local🟡{display-mode: \"form\"}\n",
        "\n",
        "# Variables globales y configuración del modelo\n",
        "MAX_LENGTH = 8000000 #@param {type:\"slider\", min:512, max:8000000, step:128}\n",
        "DEFAULT_MAX_NEW_TOKENS = 800000 #@param {type:\"slider\", min:100, max:800000, step:100}\n",
        "TEMPERATURE = 0.9 #@param {type:\"slider\", min:0, max:1, step:0.1}\n",
        "SYSTEM_PROMPT = \"A chat between a curious user and an artificial intelligence assistant. The assistant gives helpful, detailed, and polite answers to the user's questions\" #@param {type:\"string\"}\n",
        "\n",
        "def predict(message, history, system_prompt, temperature, max_tokens):\n",
        "    instruction = system_prompt\n",
        "    for human, assistant in history:\n",
        "        instruction += f'user\\n{human}\\n\\nassistant\\n{assistant}\\n'\n",
        "    instruction += f'\\nuser\\n{message}\\n\\nassistant\\n'\n",
        "\n",
        "    problem = [instruction]\n",
        "    streamer = TextIteratorStreamer(tokenizer, timeout=100.0, skip_prompt=True, skip_special_tokens=True)\n",
        "    enc = tokenizer(problem, return_tensors=\"pt\", padding=True, truncation=True)\n",
        "    input_ids = enc.input_ids\n",
        "    attention_mask = enc.attention_mask\n",
        "\n",
        "    if input_ids.shape[1] > MAX_LENGTH:\n",
        "        input_ids = input_ids[:, -MAX_LENGTH:]\n",
        "\n",
        "    input_ids = input_ids.to(device)\n",
        "    attention_mask = attention_mask.to(device)\n",
        "    generate_kwargs = {\n",
        "        \"input_ids\": input_ids,\n",
        "        \"attention_mask\": attention_mask,\n",
        "        \"streamer\": streamer,\n",
        "        \"do_sample\": True,\n",
        "        \"top_p\": 0.95,\n",
        "        \"temperature\": temperature,\n",
        "        \"max_new_tokens\": max_tokens,\n",
        "    }\n",
        "\n",
        "    t = Thread(target=model.generate, kwargs=generate_kwargs)\n",
        "    t.start()\n",
        "    outputs = []\n",
        "    for text in streamer:\n",
        "        outputs.append(text)\n",
        "        yield \"\".join(outputs)\n",
        "    yield \"\".join(outputs)\n",
        "\n",
        "interface = gr.ChatInterface(\n",
        "    fn=predict,\n",
        "    title=\"BotJava\",\n",
        "    description=\"Chat Model Stable Code 3B\",\n",
        "    theme=\"Glass\",\n",
        "    chatbot=gr.Chatbot(label=\"Chat History\"),\n",
        "    textbox=gr.Textbox(placeholder=\"input\", container=False, scale=7),\n",
        "    retry_btn=None,\n",
        "    undo_btn=\"Delete Previous\",\n",
        "    clear_btn=\"Clear\",\n",
        "    additional_inputs=[\n",
        "        gr.Textbox(SYSTEM_PROMPT, label=\"System Prompt\"),\n",
        "        gr.Slider(0, 1, TEMPERATURE, label=\"Temperature\"),\n",
        "        gr.Slider(100, 2048, DEFAULT_MAX_NEW_TOKENS, label=\"Max Tokens\"),\n",
        "    ],\n",
        "    additional_inputs_accordion=\"Parameters\",\n",
        ")\n",
        "\n",
        "interface.launch(share=None)"
      ],
      "metadata": {
        "id": "GnwNCb5ropkC",
        "outputId": "b7d15c62-2034-495e-9f37-1b4a1abb7c18",
        "colab": {
          "base_uri": "https://localhost:8080/",
          "height": 664
        }
      },
      "execution_count": null,
      "outputs": [
        {
          "output_type": "stream",
          "name": "stdout",
          "text": [
            "Setting queue=True in a Colab notebook requires sharing enabled. Setting `share=True` (you can turn this off by setting `share=False` in `launch()` explicitly).\n",
            "\n",
            "Colab notebook detected. To show errors in colab notebook, set debug=True in launch()\n",
            "Running on public URL: https://41c7529a82f5a051ff.gradio.live\n",
            "\n",
            "This share link expires in 72 hours. For free permanent hosting and GPU upgrades, run `gradio deploy` from Terminal to deploy to Spaces (https://huggingface.co/spaces)\n"
          ]
        },
        {
          "output_type": "display_data",
          "data": {
            "text/plain": [
              "<IPython.core.display.HTML object>"
            ],
            "text/html": [
              "<div><iframe src=\"https://41c7529a82f5a051ff.gradio.live\" width=\"100%\" height=\"500\" allow=\"autoplay; camera; microphone; clipboard-read; clipboard-write;\" frameborder=\"0\" allowfullscreen></iframe></div>"
            ]
          },
          "metadata": {}
        },
        {
          "output_type": "execute_result",
          "data": {
            "text/plain": []
          },
          "metadata": {},
          "execution_count": 5
        }
      ]
    },
    {
      "cell_type": "code",
      "source": [
        "# @title <b>Java Bot MyDrive Mount♻️  {display-mode: \"form\"}\n",
        "from google.colab import drive\n",
        "drive.mount('/content/drive')\n",
        "\n",
        "from transformers import AutoModelForCausalLM, AutoTokenizer\n",
        "import torch\n",
        "\n",
        "# Definir la ruta del modelo en Google Drive\n",
        "model_path = \"/content/drive/MyDrive/stable-code-instruct-3b\"\n",
        "\n",
        "# Cargar el tokenizador y el modelo desde Google Drive\n",
        "tokenizer = AutoTokenizer.from_pretrained(model_path)\n",
        "model = AutoModelForCausalLM.from_pretrained(model_path, torch_dtype=torch.bfloat16)\n",
        "device = torch.device('cuda' if torch.cuda.is_available() else 'cpu')\n",
        "model = model.to(device)\n",
        "\n",
        "# El resto de tu código para configurar y lanzar el bot\n",
        "import gradio as gr\n",
        "from transformers import TextIteratorStreamer\n",
        "from threading import Thread\n",
        "\n",
        "# Variables globales y configuración del modelo\n",
        "MAX_LENGTH = 6284800\n",
        "DEFAULT_MAX_NEW_TOKENS = 800000\n",
        "TEMPERATURE = 0.9\n",
        "SYSTEM_PROMPT = \"A chat between a curious user and an artificial intelligence assistant. The assistant gives helpful, detailed, and polite answers to the user's questions\"\n",
        "\n",
        "def predict(message, history, system_prompt, temperature, max_tokens):\n",
        "    instruction = system_prompt\n",
        "    for human, assistant in history:\n",
        "        instruction += f'user\\n{human}\\n\\nassistant\\n{assistant}\\n'\n",
        "    instruction += f'\\nuser\\n{message}\\n\\nassistant\\n'\n",
        "\n",
        "    problem = [instruction]\n",
        "    streamer = TextIteratorStreamer(tokenizer, timeout=100.0, skip_prompt=True, skip_special_tokens=True)\n",
        "    enc = tokenizer(problem, return_tensors=\"pt\", padding=True, truncation=True)\n",
        "    input_ids = enc.input_ids\n",
        "    attention_mask = enc.attention_mask\n",
        "\n",
        "    if input_ids.shape[1] > MAX_LENGTH:\n",
        "        input_ids = input_ids[:, -MAX_LENGTH:]\n",
        "\n",
        "    input_ids = input_ids.to(device)\n",
        "    attention_mask = attention_mask.to(device)\n",
        "    generate_kwargs = {\n",
        "        \"input_ids\": input_ids,\n",
        "        \"attention_mask\": attention_mask,\n",
        "        \"streamer\": streamer,\n",
        "        \"do_sample\": True,\n",
        "        \"top_p\": 0.95,\n",
        "        \"temperature\": temperature,\n",
        "        \"max_new_tokens\": max_tokens,\n",
        "    }\n",
        "\n",
        "    t = Thread(target=model.generate, kwargs=generate_kwargs)\n",
        "    t.start()\n",
        "    outputs = []\n",
        "    for text in streamer:\n",
        "        outputs.append(text)\n",
        "        yield \"\".join(outputs)\n",
        "    yield \"\".join(outputs)\n",
        "\n",
        "interface = gr.ChatInterface(\n",
        "    fn=predict,\n",
        "    title=\"BotJava\",\n",
        "    description=\"Chat Model Stable Code 3B\",\n",
        "    theme=\"Glass\",\n",
        "    chatbot=gr.Chatbot(label=\"Chat History\"),\n",
        "    textbox=gr.Textbox(placeholder=\"input\", container=False, scale=7),\n",
        "    retry_btn=None,\n",
        "    undo_btn=\"Delete Previous\",\n",
        "    clear_btn=\"Clear\",\n",
        "    additional_inputs=[\n",
        "        gr.Textbox(SYSTEM_PROMPT, label=\"System Prompt\"),\n",
        "        gr.Slider(0, 1, TEMPERATURE, label=\"Temperature\"),\n",
        "        gr.Slider(100, 2048, DEFAULT_MAX_NEW_TOKENS, label=\"Max Tokens\"),\n",
        "    ],\n",
        "    additional_inputs_accordion=\"Parameters\",\n",
        ")\n",
        "\n",
        "interface.launch(share=None)"
      ],
      "metadata": {
        "id": "9ZamoWhxcNug",
        "outputId": "26084e14-d2c0-4228-e214-30a0459b2f91",
        "colab": {
          "base_uri": "https://localhost:8080/",
          "height": 737,
          "referenced_widgets": [
            "e7a209e8a78a4e0eb3b9446aa4d3e43f",
            "c4feff47c7774f3798d723be069f563a",
            "908e35c418ea48bfb31568a99700428f",
            "fd1a6986bb7546edb2656cac89d204e0",
            "9a4ba9e203ed498b954ea42ae7ebe128",
            "8fe7e62bf71547cc838a586a1e7cb736",
            "5426b53a81884af2b5bf907fb54ece25",
            "e8e2cef7a15c4c87958dc65bb066b959",
            "e3a9a143a1744af4865eff3857c2e348",
            "4cc72816a9af4c5280e73900fe43e322",
            "a907fd14e8344afebd4eaa282a7a2259"
          ]
        }
      },
      "execution_count": null,
      "outputs": [
        {
          "output_type": "stream",
          "name": "stderr",
          "text": [
            "Special tokens have been added in the vocabulary, make sure the associated word embeddings are fine-tuned or trained.\n"
          ]
        },
        {
          "output_type": "stream",
          "name": "stdout",
          "text": [
            "Drive already mounted at /content/drive; to attempt to forcibly remount, call drive.mount(\"/content/drive\", force_remount=True).\n"
          ]
        },
        {
          "output_type": "display_data",
          "data": {
            "text/plain": [
              "Loading checkpoint shards:   0%|          | 0/2 [00:00<?, ?it/s]"
            ],
            "application/vnd.jupyter.widget-view+json": {
              "version_major": 2,
              "version_minor": 0,
              "model_id": "e7a209e8a78a4e0eb3b9446aa4d3e43f"
            }
          },
          "metadata": {}
        },
        {
          "output_type": "stream",
          "name": "stdout",
          "text": [
            "Setting queue=True in a Colab notebook requires sharing enabled. Setting `share=True` (you can turn this off by setting `share=False` in `launch()` explicitly).\n",
            "\n",
            "Colab notebook detected. To show errors in colab notebook, set debug=True in launch()\n",
            "Running on public URL: https://9b494002e848e23f92.gradio.live\n",
            "\n",
            "This share link expires in 72 hours. For free permanent hosting and GPU upgrades, run `gradio deploy` from Terminal to deploy to Spaces (https://huggingface.co/spaces)\n"
          ]
        },
        {
          "output_type": "display_data",
          "data": {
            "text/plain": [
              "<IPython.core.display.HTML object>"
            ],
            "text/html": [
              "<div><iframe src=\"https://9b494002e848e23f92.gradio.live\" width=\"100%\" height=\"500\" allow=\"autoplay; camera; microphone; clipboard-read; clipboard-write;\" frameborder=\"0\" allowfullscreen></iframe></div>"
            ]
          },
          "metadata": {}
        },
        {
          "output_type": "execute_result",
          "data": {
            "text/plain": []
          },
          "metadata": {},
          "execution_count": 17
        }
      ]
    },
    {
      "cell_type": "code",
      "source": [
        "# @title <b>MyDrive Dependencies/Model🚀 Mount♻️  {display-mode: \"form\"}\n",
        "%%capture\n",
        "# Montar Google Drive\n",
        "from google.colab import drive\n",
        "drive.mount('/content/drive')\n",
        "\n",
        "!pip install gradio\n",
        "\n",
        "# Activar el entorno virtual\n",
        "!source /content/drive/MyDrive/colab_env/bin/activate\n",
        "\n",
        "# Comprobar que las dependencias están instaladas\n",
        "!pip list\n",
        "\n",
        "# Tu código aquí\n",
        "import argparse\n",
        "import os\n",
        "import gradio as gr\n",
        "import json\n",
        "import torch\n",
        "from transformers import AutoModelForCausalLM, AutoTokenizer, TextIteratorStreamer\n",
        "from threading import Thread\n",
        "\n",
        "# Definir la ruta del modelo en Google Drive\n",
        "model_path = \"/content/drive/MyDrive/stable-code-instruct-3b\"\n",
        "\n",
        "# Cargar el tokenizador\n",
        "tokenizer = AutoTokenizer.from_pretrained(model_path)\n",
        "\n",
        "# Cargar el modelo\n",
        "model = AutoModelForCausalLM.from_pretrained(model_path, torch_dtype=torch.bfloat16)\n",
        "device = torch.device('cuda' if torch.cuda.is_available() else 'cpu')\n",
        "model = model.to(device)"
      ],
      "metadata": {
        "id": "GU2TIb1OcR6B"
      },
      "execution_count": null,
      "outputs": []
    },
    {
      "cell_type": "code",
      "source": [
        "\n",
        "# @title <b>¡Save Model/Tokenizer = MyDrive!💾 {display-mode: \"form\"}\n",
        "\n",
        "%%capture\n",
        "from google.colab import drive\n",
        "drive.mount('/content/drive')\n",
        "\n",
        "from transformers import AutoModelForCausalLM, AutoTokenizer\n",
        "import torch\n",
        "\n",
        "# Definir la ruta del modelo en Google Drive\n",
        "model_path = \"/content/drive/MyDrive/stable-code-instruct-3b\"\n",
        "\n",
        "# Cargar el tokenizador y el modelo\n",
        "tokenizer = AutoTokenizer.from_pretrained(\"stabilityai/stable-code-instruct-3b\")\n",
        "model = AutoModelForCausalLM.from_pretrained(\"stabilityai/stable-code-instruct-3b\", torch_dtype=torch.bfloat16)\n",
        "device = torch.device('cuda' if torch.cuda.is_available() else 'cpu')\n",
        "model = model.to(device)\n",
        "\n",
        "# Guardar el modelo y el tokenizador\n",
        "model.save_pretrained(model_path)\n",
        "tokenizer.save_pretrained(model_path)"
      ],
      "metadata": {
        "id": "d41G8mN1gtUz"
      },
      "execution_count": null,
      "outputs": []
    },
    {
      "cell_type": "code",
      "source": [
        "\n",
        "# @title <b>¡Save Dependencies/Import install MyDrive💾 {display-mode: \"form\"}\n",
        "%%capture\n",
        "from google.colab import drive\n",
        "drive.mount('/content/drive')\n",
        "\n",
        "# Crear un directorio para el entorno virtual en Google Drive\n",
        "!mkdir -p /content/drive/MyDrive/colab_env\n",
        "\n",
        "# Crear el entorno virtual en Google Drive\n",
        "!python3 -m venv /content/drive/MyDrive/colab_env\n",
        "\n",
        "# Activar el entorno virtual y luego instalar las dependencias\n",
        "!source /content/drive/MyDrive/colab_env/bin/activate && pip install transformers==4.38.2 tiktoken torch numpy gradio"
      ],
      "metadata": {
        "id": "qYpxmISskX0r"
      },
      "execution_count": null,
      "outputs": []
    }
  ]
}