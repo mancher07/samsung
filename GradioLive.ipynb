{
  "nbformat": 4,
  "nbformat_minor": 0,
  "metadata": {
    "colab": {
      "provenance": [],
      "gpuType": "T4",
      "include_colab_link": true
    },
    "kernelspec": {
      "name": "python3",
      "display_name": "Python 3"
    },
    "language_info": {
      "name": "python"
    },
    "accelerator": "GPU"
  },
  "cells": [
    {
      "cell_type": "markdown",
      "metadata": {
        "id": "view-in-github",
        "colab_type": "text"
      },
      "source": [
        "<a href=\"https://colab.research.google.com/github/mancher07/samsung/blob/main/GradioLive.ipynb\" target=\"_parent\"><img src=\"https://colab.research.google.com/assets/colab-badge.svg\" alt=\"Open In Colab\"/></a>"
      ]
    },
    {
      "cell_type": "code",
      "execution_count": null,
      "metadata": {
        "id": "4pOirYGLqOLr"
      },
      "outputs": [],
      "source": [
        "# @title <b>Requirements 🚀</b>   {display-mode: \"form\"}\n",
        "\n",
        "%%capture\n",
        "!pip install transformers==4.38.2 tiktoken torch numpy gradio"
      ]
    },
    {
      "cell_type": "code",
      "source": [
        "\n",
        "# @title <b>Bot Java {display-mode: \"form\"}\n",
        "\n",
        "# Variables globales y configuración del modelo\n",
        "MAX_LENGTH = 4096 #@param {type:\"slider\", min:512, max:4096, step:128}\n",
        "DEFAULT_MAX_NEW_TOKENS = 1024 #@param {type:\"slider\", min:100, max:2048, step:100}\n",
        "TEMPERATURE = 0.9 #@param {type:\"slider\", min:0, max:1, step:0.1}\n",
        "SYSTEM_PROMPT = \"A chat between a curious user and an artificial intelligence assistant. The assistant gives helpful, detailed, and polite answers to the user's questions.\" #@param {type:\"string\"}\n",
        "\n",
        "import argparse\n",
        "import os\n",
        "import gradio as gr\n",
        "import json\n",
        "import torch\n",
        "from transformers import AutoModelForCausalLM, AutoTokenizer, TextIteratorStreamer\n",
        "from threading import Thread\n",
        "\n",
        "# Variables globales y configuración del modelo\n",
        "MAX_LENGTH = 4096\n",
        "DEFAULT_MAX_NEW_TOKENS = 1024\n",
        "\n",
        "# Cargar el modelo y el tokenizador\n",
        "tokenizer = AutoTokenizer.from_pretrained(\"stabilityai/stable-code-instruct-3b\")\n",
        "model = AutoModelForCausalLM.from_pretrained(\"stabilityai/stable-code-instruct-3b\", torch_dtype=torch.bfloat16)\n",
        "device = torch.device('cuda' if torch.cuda.is_available() else 'cpu')\n",
        "model = model.to(device)\n",
        "\n",
        "def predict(message, history, system_prompt, temperature, max_tokens):\n",
        "    instruction = system_prompt\n",
        "    for human, assistant in history:\n",
        "        instruction += f'user\\n{human}\\n\\nassistant\\n{assistant}\\n'\n",
        "    instruction += f'\\nuser\\n{message}\\n\\nassistant\\n'\n",
        "\n",
        "    problem = [instruction]\n",
        "    streamer = TextIteratorStreamer(tokenizer, timeout=100.0, skip_prompt=True, skip_special_tokens=True)\n",
        "    enc = tokenizer(problem, return_tensors=\"pt\", padding=True, truncation=True)\n",
        "    input_ids = enc.input_ids\n",
        "    attention_mask = enc.attention_mask\n",
        "\n",
        "    if input_ids.shape[1] > MAX_LENGTH:\n",
        "        input_ids = input_ids[:, -MAX_LENGTH:]\n",
        "\n",
        "    input_ids = input_ids.to(device)\n",
        "    attention_mask = attention_mask.to(device)\n",
        "    generate_kwargs = {\n",
        "        \"input_ids\": input_ids,\n",
        "        \"attention_mask\": attention_mask,\n",
        "        \"streamer\": streamer,\n",
        "        \"do_sample\": True,\n",
        "        \"top_p\": 0.95,\n",
        "        \"temperature\": temperature,\n",
        "        \"max_new_tokens\": max_tokens,\n",
        "    }\n",
        "\n",
        "    t = Thread(target=model.generate, kwargs=generate_kwargs)\n",
        "    t.start()\n",
        "    outputs = []\n",
        "    for text in streamer:\n",
        "        outputs.append(text)\n",
        "        yield \"\".join(outputs)\n",
        "    yield \"\".join(outputs)\n",
        "\n",
        "system_prompt = \"A chat between a curious user and an artificial intelligence assistant. The assistant gives helpful, detailed, and polite answers to the user's questions.\"\n",
        "\n",
        "interface = gr.ChatInterface(\n",
        "    fn=predict,\n",
        "    title=\"Welcome to Gradio\",\n",
        "    description=\"Chat Model Stable Code 3B\",\n",
        "    theme=\"Glass\",\n",
        "    chatbot=gr.Chatbot(label=\"Chat History\"),\n",
        "    textbox=gr.Textbox(placeholder=\"input\", container=False, scale=7),\n",
        "    retry_btn=None,\n",
        "    undo_btn=\"Delete Previous\",\n",
        "    clear_btn=\"Clear\",\n",
        "    additional_inputs=[\n",
        "        gr.Textbox(system_prompt, label=\"System Prompt\"),\n",
        "        gr.Slider(0, 1, 0.9, label=\"Temperature\"),\n",
        "        gr.Slider(100, 2048, 1024, label=\"Max Tokens\"),\n",
        "    ],\n",
        "    additional_inputs_accordion=\"Parameters\",\n",
        ")\n",
        "\n",
        "interface.launch(share=None)"
      ],
      "metadata": {
        "id": "GnwNCb5ropkC"
      },
      "execution_count": null,
      "outputs": []
    }
  ]
}