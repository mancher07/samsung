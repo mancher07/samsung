{
  "nbformat": 4,
  "nbformat_minor": 0,
  "metadata": {
    "colab": {
      "provenance": [],
      "gpuType": "T4",
      "include_colab_link": true
    },
    "kernelspec": {
      "name": "python3",
      "display_name": "Python 3"
    },
    "language_info": {
      "name": "python"
    },
    "accelerator": "GPU"
  },
  "cells": [
    {
      "cell_type": "markdown",
      "metadata": {
        "id": "view-in-github",
        "colab_type": "text"
      },
      "source": [
        "<a href=\"https://colab.research.google.com/github/mancher07/samsung/blob/main/GradioLive.ipynb\" target=\"_parent\"><img src=\"https://colab.research.google.com/assets/colab-badge.svg\" alt=\"Open In Colab\"/></a>"
      ]
    },
    {
      "cell_type": "code",
      "execution_count": 1,
      "metadata": {
        "id": "4pOirYGLqOLr"
      },
      "outputs": [],
      "source": [
        "# @title <b>Requirements 🚀</b>   {display-mode: \"form\"}\n",
        "\n",
        "%%capture\n",
        "!pip install transformers==4.38.2 tiktoken torch numpy gradio\n",
        "\n",
        "import argparse\n",
        "import os\n",
        "import gradio as gr\n",
        "import json\n",
        "import torch\n",
        "from transformers import AutoModelForCausalLM, AutoTokenizer, TextIteratorStreamer\n",
        "from threading import Thread\n",
        "\n",
        "# Cargar el modelo y el tokenizador\n",
        "tokenizer = AutoTokenizer.from_pretrained(\"stabilityai/stable-code-instruct-3b\")\n",
        "model = AutoModelForCausalLM.from_pretrained(\"stabilityai/stable-code-instruct-3b\", torch_dtype=torch.bfloat16)\n",
        "device = torch.device('cuda' if torch.cuda.is_available() else 'cpu')\n",
        "model = model.to(device)"
      ]
    },
    {
      "cell_type": "code",
      "source": [
        "# @title <b>Bot Java {display-mode: \"form\"}\n",
        "\n",
        "# Variables globales y configuración del modelo\n",
        "MAX_LENGTH = 8000000 #@param {type:\"slider\", min:512, max:8000000, step:128}\n",
        "DEFAULT_MAX_NEW_TOKENS = 800000 #@param {type:\"slider\", min:100, max:800000, step:100}\n",
        "TEMPERATURE = 0.9 #@param {type:\"slider\", min:0, max:1, step:0.1}\n",
        "SYSTEM_PROMPT = \"A chat between a curious user and an artificial intelligence assistant. The assistant gives helpful, detailed, and polite answers to the user's questions\" #@param {type:\"string\"}\n",
        "\n",
        "def predict(message, history, system_prompt, temperature, max_tokens):\n",
        "    instruction = system_prompt\n",
        "    for human, assistant in history:\n",
        "        instruction += f'user\\n{human}\\n\\nassistant\\n{assistant}\\n'\n",
        "    instruction += f'\\nuser\\n{message}\\n\\nassistant\\n'\n",
        "\n",
        "    problem = [instruction]\n",
        "    streamer = TextIteratorStreamer(tokenizer, timeout=100.0, skip_prompt=True, skip_special_tokens=True)\n",
        "    enc = tokenizer(problem, return_tensors=\"pt\", padding=True, truncation=True)\n",
        "    input_ids = enc.input_ids\n",
        "    attention_mask = enc.attention_mask\n",
        "\n",
        "    if input_ids.shape[1] > MAX_LENGTH:\n",
        "        input_ids = input_ids[:, -MAX_LENGTH:]\n",
        "\n",
        "    input_ids = input_ids.to(device)\n",
        "    attention_mask = attention_mask.to(device)\n",
        "    generate_kwargs = {\n",
        "        \"input_ids\": input_ids,\n",
        "        \"attention_mask\": attention_mask,\n",
        "        \"streamer\": streamer,\n",
        "        \"do_sample\": True,\n",
        "        \"top_p\": 0.95,\n",
        "        \"temperature\": temperature,\n",
        "        \"max_new_tokens\": max_tokens,\n",
        "    }\n",
        "\n",
        "    t = Thread(target=model.generate, kwargs=generate_kwargs)\n",
        "    t.start()\n",
        "    outputs = []\n",
        "    for text in streamer:\n",
        "        outputs.append(text)\n",
        "        yield \"\".join(outputs)\n",
        "    yield \"\".join(outputs)\n",
        "\n",
        "interface = gr.ChatInterface(\n",
        "    fn=predict,\n",
        "    title=\"BotJava\",\n",
        "    description=\"Chat Model Stable Code 3B\",\n",
        "    theme=\"Glass\",\n",
        "    chatbot=gr.Chatbot(label=\"Chat History\"),\n",
        "    textbox=gr.Textbox(placeholder=\"input\", container=False, scale=7),\n",
        "    retry_btn=None,\n",
        "    undo_btn=\"Delete Previous\",\n",
        "    clear_btn=\"Clear\",\n",
        "    additional_inputs=[\n",
        "        gr.Textbox(SYSTEM_PROMPT, label=\"System Prompt\"),\n",
        "        gr.Slider(0, 1, TEMPERATURE, label=\"Temperature\"),\n",
        "        gr.Slider(100, 2048, DEFAULT_MAX_NEW_TOKENS, label=\"Max Tokens\"),\n",
        "    ],\n",
        "    additional_inputs_accordion=\"Parameters\",\n",
        ")\n",
        "\n",
        "interface.launch(share=None)"
      ],
      "metadata": {
        "id": "GnwNCb5ropkC",
        "outputId": "b7d15c62-2034-495e-9f37-1b4a1abb7c18",
        "colab": {
          "base_uri": "https://localhost:8080/",
          "height": 664
        }
      },
      "execution_count": 5,
      "outputs": [
        {
          "output_type": "stream",
          "name": "stdout",
          "text": [
            "Setting queue=True in a Colab notebook requires sharing enabled. Setting `share=True` (you can turn this off by setting `share=False` in `launch()` explicitly).\n",
            "\n",
            "Colab notebook detected. To show errors in colab notebook, set debug=True in launch()\n",
            "Running on public URL: https://41c7529a82f5a051ff.gradio.live\n",
            "\n",
            "This share link expires in 72 hours. For free permanent hosting and GPU upgrades, run `gradio deploy` from Terminal to deploy to Spaces (https://huggingface.co/spaces)\n"
          ]
        },
        {
          "output_type": "display_data",
          "data": {
            "text/plain": [
              "<IPython.core.display.HTML object>"
            ],
            "text/html": [
              "<div><iframe src=\"https://41c7529a82f5a051ff.gradio.live\" width=\"100%\" height=\"500\" allow=\"autoplay; camera; microphone; clipboard-read; clipboard-write;\" frameborder=\"0\" allowfullscreen></iframe></div>"
            ]
          },
          "metadata": {}
        },
        {
          "output_type": "execute_result",
          "data": {
            "text/plain": []
          },
          "metadata": {},
          "execution_count": 5
        }
      ]
    }
  ]
}